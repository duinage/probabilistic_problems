{
 "cells": [
  {
   "cell_type": "markdown",
   "metadata": {},
   "source": [
    "### A theoretical and empirical model is presented for the proposed one-armed bandit - a classic slot machine with one payline."
   ]
  },
  {
   "cell_type": "code",
   "execution_count": 4,
   "metadata": {},
   "outputs": [],
   "source": [
    "from random import randint"
   ]
  },
  {
   "cell_type": "markdown",
   "metadata": {},
   "source": [
    "<img src=\"https://i.ibb.co/hZY0xrB/Screenshot-1.jpg\" style=\"height:300px\" />"
   ]
  },
  {
   "cell_type": "markdown",
   "metadata": {},
   "source": [
    "###### EV - Expected Value\n",
    "\n",
    "$P_{111} = 2/10 * 2/10 * 2/10 = 8/1000 = 0,008$; ${EV}_{111} = 50*0,008 = 0,4$\n",
    "\n",
    "$P_{11} = 2/10 * 2/10 * 8/10 = 32/1000 = 0,032$; ${EV}_{11} = 5*0,032 = 0,16$ \n",
    "\n",
    "$P_{222} = 2/10 * 2/10 * 3/10 = 12/1000 = 0,012$; ${EV}_{222} = 20*0,012 = 0,24$\n",
    "\n",
    "$P_{22} = 2/10 * 2/10 * 7/10 = 28/1000 = 0,028$; ${EV}_{22} = 3*0,028 = 0,084$\n",
    "\n",
    "$P_{333} = 2/10 * 2/10 * 3/10 = 12/1000 = 0,012$; ${EV}_{333} = 5*0,012 = 0,06$\n",
    "\n",
    "так як ставка $= 1 грн$, то\n",
    "\n",
    "$RTP = total EV * 100 \\% = (0,4+0,16+0,24+0,084+0,06)*100\\% = 94,4\\%$\n",
    "\n",
    "Ймовірність будь-якого виграшу $P_{any} = 0,008 + 0,032 + 0,012 + 0,028 + 0,012 = 0,092$\n",
    "\n",
    "Тобто в $9,2\\%$ випадках."
   ]
  },
  {
   "cell_type": "code",
   "execution_count": 6,
   "metadata": {},
   "outputs": [
    {
     "name": "stdout",
     "output_type": "stream",
     "text": [
      "total bet: 1000000 \n",
      "total debt 940651 \n",
      "A percentage of the money will be paid 94.0651% \n"
     ]
    }
   ],
   "source": [
    "b1 = [1,2,3,4,5,1,2,3,4,5]\n",
    "b2 = [1,2,3,4,5,1,2,3,4,5]\n",
    "b3 = [3,1,5,2,3,2,4,1,3,2]\n",
    "\n",
    "bet = 0\n",
    "debt = 0\n",
    "\n",
    "while bet <= 1e6:\n",
    "    bet += 1\n",
    "\n",
    "    i1 = randint(0, 9)\n",
    "    i2 = randint(0, 9)\n",
    "    i3 = randint(0, 9)\n",
    "\n",
    "    line = [b1[i1], b2[i2], b3[i3]]\n",
    "    \n",
    "    if line == [1,1,1]:\n",
    "        debt += 50\n",
    "    elif line == [2,2,2]:\n",
    "        debt += 20\n",
    "    elif line == [3,3,3]:\n",
    "        debt += 5\n",
    "    elif line[:2] == [1,1]:\n",
    "        debt += 5\n",
    "    elif line[:2] == [2,2]:\n",
    "        debt += 3\n",
    "else:\n",
    "    bet -= 1\n",
    "    print(f\"total bet: {bet} \\ntotal debt {debt} \\nA percentage of the money will be paid {debt/bet * 100}% \")"
   ]
  }
 ],
 "metadata": {
  "kernelspec": {
   "display_name": "Python 3",
   "language": "python",
   "name": "python3"
  },
  "language_info": {
   "codemirror_mode": {
    "name": "ipython",
    "version": 3
   },
   "file_extension": ".py",
   "mimetype": "text/x-python",
   "name": "python",
   "nbconvert_exporter": "python",
   "pygments_lexer": "ipython3",
   "version": "3.9.7"
  },
  "orig_nbformat": 4
 },
 "nbformat": 4,
 "nbformat_minor": 2
}
