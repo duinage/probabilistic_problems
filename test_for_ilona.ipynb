{
 "cells": [
  {
   "cell_type": "code",
   "execution_count": 1,
   "id": "0042cf87-a03e-4eca-8c7e-5a4f8a64d6fe",
   "metadata": {},
   "outputs": [
    {
     "name": "stdout",
     "output_type": "stream",
     "text": [
      "Hello, Ilona\n"
     ]
    }
   ],
   "source": [
    "print(\"Hello, Ilona\")"
   ]
  },
  {
   "cell_type": "code",
   "execution_count": null,
   "id": "67ec4b8d-a20e-4c6c-86a4-4caf0ecd3e9f",
   "metadata": {},
   "outputs": [],
   "source": []
  }
 ],
 "metadata": {
  "kernelspec": {
   "display_name": "Python 3 (ipykernel)",
   "language": "python",
   "name": "python3"
  },
  "language_info": {
   "codemirror_mode": {
    "name": "ipython",
    "version": 3
   },
   "file_extension": ".py",
   "mimetype": "text/x-python",
   "name": "python",
   "nbconvert_exporter": "python",
   "pygments_lexer": "ipython3",
   "version": "3.12.1"
  }
 },
 "nbformat": 4,
 "nbformat_minor": 5
}
