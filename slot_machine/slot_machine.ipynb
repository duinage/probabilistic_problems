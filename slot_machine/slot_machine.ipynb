{
 "cells": [
  {
   "cell_type": "code",
   "execution_count": 56,
   "metadata": {},
   "outputs": [],
   "source": [
    "import pandas as pd\n",
    "import numpy as np"
   ]
  },
  {
   "cell_type": "code",
   "execution_count": 57,
   "metadata": {},
   "outputs": [
    {
     "data": {
      "text/html": [
       "<div>\n",
       "<style scoped>\n",
       "    .dataframe tbody tr th:only-of-type {\n",
       "        vertical-align: middle;\n",
       "    }\n",
       "\n",
       "    .dataframe tbody tr th {\n",
       "        vertical-align: top;\n",
       "    }\n",
       "\n",
       "    .dataframe thead th {\n",
       "        text-align: right;\n",
       "    }\n",
       "</style>\n",
       "<table border=\"1\" class=\"dataframe\">\n",
       "  <thead>\n",
       "    <tr style=\"text-align: right;\">\n",
       "      <th></th>\n",
       "      <th>Unnamed: 0</th>\n",
       "      <th>Explicit</th>\n",
       "      <th>Unnamed: 2</th>\n",
       "      <th>Unnamed: 3</th>\n",
       "      <th>Unnamed: 4</th>\n",
       "      <th>Unnamed: 5</th>\n",
       "    </tr>\n",
       "  </thead>\n",
       "  <tbody>\n",
       "    <tr>\n",
       "      <th>0</th>\n",
       "      <td>Position</td>\n",
       "      <td>Reel 1</td>\n",
       "      <td>Reel 2</td>\n",
       "      <td>Reel 3</td>\n",
       "      <td>Reel 4</td>\n",
       "      <td>Reel 5</td>\n",
       "    </tr>\n",
       "    <tr>\n",
       "      <th>1</th>\n",
       "      <td>1</td>\n",
       "      <td>S</td>\n",
       "      <td>W</td>\n",
       "      <td>J</td>\n",
       "      <td>K</td>\n",
       "      <td>J</td>\n",
       "    </tr>\n",
       "    <tr>\n",
       "      <th>2</th>\n",
       "      <td>2</td>\n",
       "      <td>A</td>\n",
       "      <td>K</td>\n",
       "      <td>Q</td>\n",
       "      <td>J</td>\n",
       "      <td>Q</td>\n",
       "    </tr>\n",
       "    <tr>\n",
       "      <th>3</th>\n",
       "      <td>3</td>\n",
       "      <td>Q</td>\n",
       "      <td>J</td>\n",
       "      <td>Q</td>\n",
       "      <td>J</td>\n",
       "      <td>Q</td>\n",
       "    </tr>\n",
       "    <tr>\n",
       "      <th>4</th>\n",
       "      <td>4</td>\n",
       "      <td>J</td>\n",
       "      <td>A</td>\n",
       "      <td>J</td>\n",
       "      <td>A</td>\n",
       "      <td>J</td>\n",
       "    </tr>\n",
       "  </tbody>\n",
       "</table>\n",
       "</div>"
      ],
      "text/plain": [
       "  Unnamed: 0 Explicit Unnamed: 2 Unnamed: 3 Unnamed: 4 Unnamed: 5\n",
       "0   Position   Reel 1     Reel 2     Reel 3     Reel 4     Reel 5\n",
       "1          1        S          W          J          K          J\n",
       "2          2        A          K          Q          J          Q\n",
       "3          3        Q          J          Q          J          Q\n",
       "4          4        J          A          J          A          J"
      ]
     },
     "execution_count": 57,
     "metadata": {},
     "output_type": "execute_result"
    }
   ],
   "source": [
    "Reels = pd.read_csv('reels.csv')\n",
    "Reels.head()"
   ]
  },
  {
   "cell_type": "code",
   "execution_count": 58,
   "metadata": {},
   "outputs": [
    {
     "data": {
      "text/plain": [
       "array(['S', 'A', 'Q', 'J', 'Q', 'Q', 'J', 'Q', 'A', 'A', 'Q', 'J', 'Q',\n",
       "       'A', 'K', 'W', 'A', 'K', 'Q', 'A', 'Q', 'J', 'Q', 'Q', 'Q', 'S',\n",
       "       'Q', 'A', 'Q', 'J', 'A', 'Q', 'A', 'S', 'Q', 'K', 'Q', 'J', 'J',\n",
       "       'Q', 'A', 'K', 'K', 'K', 'Q', 'J', 'Q'], dtype=object)"
      ]
     },
     "execution_count": 58,
     "metadata": {},
     "output_type": "execute_result"
    }
   ],
   "source": [
    "Reels.columns = [i for i in range(0,6)]\n",
    "default_reels = []\n",
    "for i in range(1,6):\n",
    "    reel = np.array(Reels[i])[1:]\n",
    "    default_reels.append(reel)\n",
    "\n",
    "default_reels[0]"
   ]
  },
  {
   "cell_type": "code",
   "execution_count": 59,
   "metadata": {},
   "outputs": [
    {
     "data": {
      "text/plain": [
       "array(['K', 'J', 'A'], dtype=object)"
      ]
     },
     "execution_count": 59,
     "metadata": {},
     "output_type": "execute_result"
    }
   ],
   "source": [
    "default_reels[1][1:1+3]"
   ]
  },
  {
   "cell_type": "markdown",
   "metadata": {},
   "source": [
    "<img src=\"https://i.ibb.co/bBcMLPs/Screenshot-1.jpg\" height=\"400\">"
   ]
  },
  {
   "cell_type": "code",
   "execution_count": 60,
   "metadata": {},
   "outputs": [],
   "source": [
    "pays = {\"5A\": 30, \"4A\": 10, \"3A\": 4,\n",
    "        \"5K\": 15, \"4K\": 8, \"3K\": 3,\n",
    "        \"5Q\": 8, \"4Q\": 4, \"3Q\": 2,\n",
    "        \"5J\": 7, \"4J\": 3, \"3J\": 1}"
   ]
  },
  {
   "cell_type": "code",
   "execution_count": 61,
   "metadata": {},
   "outputs": [],
   "source": [
    "def payline1(spin_reel):\n",
    "    payback = 0\n",
    "    if spin_reel[0][0] == spin_reel[0][1] == spin_reel[0][2] == spin_reel[0][3] == spin_reel[0][4]:\n",
    "        if spin_reel[0][0] == \"A\":\n",
    "            payback = pays[\"5A\"]\n",
    "        elif spin_reel[0][0] == \"K\":\n",
    "            payback = pays[\"5K\"]\n",
    "        elif spin_reel[0][0] == \"Q\":\n",
    "            payback = pays[\"5Q\"]\n",
    "        elif spin_reel[0][0] == \"J\":\n",
    "            payback = pays[\"5J\"]\n",
    "    elif spin_reel[0][0] == spin_reel[0][1] == spin_reel[0][2] == spin_reel[0][3]:\n",
    "        if spin_reel[0][0] == \"A\":\n",
    "            payback = pays[\"4A\"]\n",
    "        elif spin_reel[0][0] == \"K\":\n",
    "            payback = pays[\"4K\"]\n",
    "        elif spin_reel[0][0] == \"Q\":\n",
    "            payback = pays[\"4Q\"]\n",
    "        elif spin_reel[0][0] == \"J\":\n",
    "            payback = pays[\"4J\"]\n",
    "    elif spin_reel[0][0] == spin_reel[0][1] == spin_reel[0][2]:\n",
    "        if spin_reel[0][0] == \"A\":\n",
    "            payback = pays[\"3A\"]\n",
    "        elif spin_reel[0][0] == \"K\":\n",
    "            payback = pays[\"3K\"]\n",
    "        elif spin_reel[0][0] == \"Q\":\n",
    "            payback = pays[\"3Q\"]\n",
    "        elif spin_reel[0][0] == \"J\":\n",
    "            payback = pays[\"3J\"]\n",
    "    return payback"
   ]
  },
  {
   "cell_type": "code",
   "execution_count": 62,
   "metadata": {},
   "outputs": [],
   "source": [
    "def payline2(spin_reel):\n",
    "    payback = 0\n",
    "    if spin_reel[1][0] == spin_reel[1][1] == spin_reel[1][2] == spin_reel[1][3] == spin_reel[1][4]:\n",
    "        if spin_reel[0][0] == \"A\":\n",
    "            payback = pays[\"5A\"]\n",
    "        elif spin_reel[0][0] == \"K\":\n",
    "            payback = pays[\"5K\"]\n",
    "        elif spin_reel[0][0] == \"Q\":\n",
    "            payback = pays[\"5Q\"]\n",
    "        elif spin_reel[0][0] == \"J\":\n",
    "            payback = pays[\"5J\"]\n",
    "    elif spin_reel[1][0] == spin_reel[1][1] == spin_reel[1][2] == spin_reel[1][3]:\n",
    "        if spin_reel[0][0] == \"A\":\n",
    "            payback = pays[\"4A\"]\n",
    "        elif spin_reel[0][0] == \"K\":\n",
    "            payback = pays[\"4K\"]\n",
    "        elif spin_reel[0][0] == \"Q\":\n",
    "            payback = pays[\"4Q\"]\n",
    "        elif spin_reel[0][0] == \"J\":\n",
    "            payback = pays[\"4J\"]\n",
    "    elif spin_reel[1][0] == spin_reel[1][1] == spin_reel[1][2]:\n",
    "        if spin_reel[0][0] == \"A\":\n",
    "            payback = pays[\"3A\"]\n",
    "        elif spin_reel[0][0] == \"K\":\n",
    "            payback = pays[\"3K\"]\n",
    "        elif spin_reel[0][0] == \"Q\":\n",
    "            payback = pays[\"3Q\"]\n",
    "        elif spin_reel[0][0] == \"J\":\n",
    "            payback = pays[\"3J\"]\n",
    "    return payback"
   ]
  },
  {
   "cell_type": "code",
   "execution_count": 63,
   "metadata": {},
   "outputs": [],
   "source": [
    "def payline3(spin_reel):\n",
    "    payback = 0\n",
    "    if spin_reel[2][0] == spin_reel[2][1] == spin_reel[2][2] == spin_reel[2][3] == spin_reel[2][4]:\n",
    "        if spin_reel[0][0] == \"A\":\n",
    "            payback = pays[\"5A\"]\n",
    "        elif spin_reel[0][0] == \"K\":\n",
    "            payback = pays[\"5K\"]\n",
    "        elif spin_reel[0][0] == \"Q\":\n",
    "            payback = pays[\"5Q\"]\n",
    "        elif spin_reel[0][0] == \"J\":\n",
    "            payback = pays[\"5J\"]\n",
    "    elif spin_reel[2][0] == spin_reel[2][1] == spin_reel[2][2] == spin_reel[2][3]:\n",
    "        if spin_reel[0][0] == \"A\":\n",
    "            payback = pays[\"4A\"]\n",
    "        elif spin_reel[0][0] == \"K\":\n",
    "            payback = pays[\"4K\"]\n",
    "        elif spin_reel[0][0] == \"Q\":\n",
    "            payback = pays[\"4Q\"]\n",
    "        elif spin_reel[0][0] == \"J\":\n",
    "            payback = pays[\"4J\"]\n",
    "    elif spin_reel[2][0] == spin_reel[2][1] == spin_reel[2][2]:\n",
    "        if spin_reel[0][0] == \"A\":\n",
    "            payback = pays[\"3A\"]\n",
    "        elif spin_reel[0][0] == \"K\":\n",
    "            payback = pays[\"3K\"]\n",
    "        elif spin_reel[0][0] == \"Q\":\n",
    "            payback = pays[\"3Q\"]\n",
    "        elif spin_reel[0][0] == \"J\":\n",
    "            payback = pays[\"3J\"]\n",
    "    return payback"
   ]
  },
  {
   "cell_type": "code",
   "execution_count": 64,
   "metadata": {},
   "outputs": [],
   "source": [
    "def payline4(spin_reel):\n",
    "    payback = 0\n",
    "    if spin_reel[0][0] == spin_reel[1][1] == spin_reel[2][2] == spin_reel[1][3] == spin_reel[0][4]:\n",
    "        if spin_reel[0][0] == \"A\":\n",
    "            payback = pays[\"5A\"]\n",
    "        elif spin_reel[0][0] == \"K\":\n",
    "            payback = pays[\"5K\"]\n",
    "        elif spin_reel[0][0] == \"Q\":\n",
    "            payback = pays[\"5Q\"]\n",
    "        elif spin_reel[0][0] == \"J\":\n",
    "            payback = pays[\"5J\"]\n",
    "    elif spin_reel[0][0] == spin_reel[1][1] == spin_reel[2][2] == spin_reel[1][3]:\n",
    "        if spin_reel[0][0] == \"A\":\n",
    "            payback = pays[\"4A\"]\n",
    "        elif spin_reel[0][0] == \"K\":\n",
    "            payback = pays[\"4K\"]\n",
    "        elif spin_reel[0][0] == \"Q\":\n",
    "            payback = pays[\"4Q\"]\n",
    "        elif spin_reel[0][0] == \"J\":\n",
    "            payback = pays[\"4J\"]\n",
    "    elif spin_reel[0][0] == spin_reel[1][1] == spin_reel[2][2]:\n",
    "        if spin_reel[0][0] == \"A\":\n",
    "            payback = pays[\"3A\"]\n",
    "        elif spin_reel[0][0] == \"K\":\n",
    "            payback = pays[\"3K\"]\n",
    "        elif spin_reel[0][0] == \"Q\":\n",
    "            payback = pays[\"3Q\"]\n",
    "        elif spin_reel[0][0] == \"J\":\n",
    "            payback = pays[\"3J\"]\n",
    "    return payback"
   ]
  },
  {
   "cell_type": "code",
   "execution_count": 65,
   "metadata": {},
   "outputs": [],
   "source": [
    "def payline5(spin_reel):\n",
    "    payback = 0\n",
    "    if spin_reel[2][0] == spin_reel[1][1] == spin_reel[0][2] == spin_reel[1][3] == spin_reel[2][4]:\n",
    "        if spin_reel[0][0] == \"A\":\n",
    "            payback = pays[\"5A\"]\n",
    "        elif spin_reel[0][0] == \"K\":\n",
    "            payback = pays[\"5K\"]\n",
    "        elif spin_reel[0][0] == \"Q\":\n",
    "            payback = pays[\"5Q\"]\n",
    "        elif spin_reel[0][0] == \"J\":\n",
    "            payback = pays[\"5J\"]\n",
    "    elif spin_reel[2][0] == spin_reel[1][1] == spin_reel[0][2] == spin_reel[1][3]:\n",
    "        if spin_reel[0][0] == \"A\":\n",
    "            payback = pays[\"4A\"]\n",
    "        elif spin_reel[0][0] == \"K\":\n",
    "            payback = pays[\"4K\"]\n",
    "        elif spin_reel[0][0] == \"Q\":\n",
    "            payback = pays[\"4Q\"]\n",
    "        elif spin_reel[0][0] == \"J\":\n",
    "            payback = pays[\"4J\"]\n",
    "    elif spin_reel[2][0] == spin_reel[1][1] == spin_reel[0][2]:\n",
    "        if spin_reel[0][0] == \"A\":\n",
    "            payback = pays[\"3A\"]\n",
    "        elif spin_reel[0][0] == \"K\":\n",
    "            payback = pays[\"3K\"]\n",
    "        elif spin_reel[0][0] == \"Q\":\n",
    "            payback = pays[\"3Q\"]\n",
    "        elif spin_reel[0][0] == \"J\":\n",
    "            payback = pays[\"3J\"]\n",
    "    return payback"
   ]
  },
  {
   "cell_type": "code",
   "execution_count": 66,
   "metadata": {},
   "outputs": [
    {
     "data": {
      "text/plain": [
       "array([['Q', 'A', 'Q', 'J', 'A'],\n",
       "       ['J', 'Q', 'J', 'J', 'J'],\n",
       "       ['Q', 'K', 'J', 'A', 'Q']], dtype='<U1')"
      ]
     },
     "execution_count": 66,
     "metadata": {},
     "output_type": "execute_result"
    }
   ],
   "source": [
    "def random_spin_reels(default_reels):\n",
    "    random_spin_reels = np.empty((5, 3), dtype='str')\n",
    "\n",
    "    for i in range(5):\n",
    "        rand_index = np.random.randint(0,45)\n",
    "        random_spin_reels[i] = (default_reels[i][rand_index:rand_index+3])\n",
    "        # print(rand_index)\n",
    "    random_spin_reels = np.transpose(random_spin_reels)\n",
    "    return random_spin_reels\n",
    "random_spin_reels(default_reels)"
   ]
  },
  {
   "cell_type": "code",
   "execution_count": 67,
   "metadata": {},
   "outputs": [],
   "source": [
    "def wild(temp_reels, default_reels):\n",
    "    # FIND POSITIONS OF SCATTER\n",
    "    row_indices, col_indices = np.where(temp_reels == 'S')\n",
    "    new_reels = random_spin_reels(default_reels)\n",
    "    arr_conc = np.array([(x, y) for x, y in zip(row_indices, col_indices)])\n",
    "    for i, j in arr_conc:\n",
    "        new_reels[i,j] = 'S'\n",
    "    return new_reels"
   ]
  },
  {
   "cell_type": "code",
   "execution_count": 68,
   "metadata": {},
   "outputs": [
    {
     "data": {
      "text/plain": [
       "(0, array([0, 0, 0, 0, 0, 0, 0]))"
      ]
     },
     "execution_count": 68,
     "metadata": {},
     "output_type": "execute_result"
    }
   ],
   "source": [
    "\n",
    "def payback_random_spin(default_reels):\n",
    "    new_reels = random_spin_reels(default_reels)\n",
    "    # print(new_reels)\n",
    "    wild_counter = 0\n",
    "    bonus_counter = 0\n",
    "    # CATCH WILD SYMBOL\n",
    "    while np.char.count(new_reels, \"W\").sum() > 0:\n",
    "        new_reels = wild(new_reels, default_reels)\n",
    "        wild_counter += 1\n",
    "        # print(\"W\")\n",
    "        # print(new_reels)\n",
    "    \n",
    "    p1,p2,p3,p4,p5 = payline1(new_reels) , payline2(new_reels) , payline3(new_reels) , payline4(new_reels) , payline5(new_reels)\n",
    "    history = np.array([p1,p2,p3,p4,p5]) > 0 \n",
    "    history = np.append(history, wild_counter)\n",
    "    history = np.append(history,bonus_counter)\n",
    "    # print(history)\n",
    "    payback = p1+p2+p3+p4+p5\n",
    "    amount_of_S = np.char.count(new_reels, \"S\").sum()\n",
    "    # print(f\"{amount_of_S=}\")\n",
    "    # CATCH SCATTER SYMBOLS\n",
    "    if amount_of_S>=3:\n",
    "        bonus_counter += 1\n",
    "        history[6]=bonus_counter\n",
    "        amount_of_S = 0\n",
    "        # 3 FREE SPINS IF 3 OR MORE SCATTERS ON REELS\n",
    "        for _ in range(3):\n",
    "            new_payback, new_history = payback_random_spin(default_reels)\n",
    "            payback += new_payback\n",
    "            history += new_history\n",
    "    return  payback, history\n",
    "\n",
    "payback_random_spin(default_reels)"
   ]
  },
  {
   "cell_type": "code",
   "execution_count": 69,
   "metadata": {},
   "outputs": [],
   "source": [
    "from tqdm import tqdm"
   ]
  },
  {
   "cell_type": "code",
   "execution_count": 70,
   "metadata": {},
   "outputs": [
    {
     "name": "stderr",
     "output_type": "stream",
     "text": [
      "  1%|          | 686/100000 [00:00<00:29, 3388.86it/s]"
     ]
    },
    {
     "name": "stderr",
     "output_type": "stream",
     "text": [
      "100%|██████████| 100000/100000 [00:19<00:00, 5002.19it/s]\n"
     ]
    }
   ],
   "source": [
    "total_money = 0\n",
    "player_money=0\n",
    "amount_of_wins = 0\n",
    "wins = []\n",
    "amount_of_spins = 10**5\n",
    "total_history = []\n",
    "win_money_history = []\n",
    "for spin in tqdm(range(amount_of_spins)):\n",
    "    bet = 1\n",
    "    total_money += bet\n",
    "    payback_coef, history = payback_random_spin(default_reels)\n",
    "    total_history.append(history)\n",
    "    win_money_history.append(payback_coef)\n",
    "    player_money += bet*payback_coef\n",
    "    \n",
    "    if payback_coef > 0:\n",
    "        amount_of_wins += 1\n",
    "        wins.append(payback_coef)"
   ]
  },
  {
   "cell_type": "code",
   "execution_count": 72,
   "metadata": {},
   "outputs": [
    {
     "name": "stdout",
     "output_type": "stream",
     "text": [
      "player_money=96843\n",
      "total_money=100000\n",
      "volatility_index=3 (calculated as the average deviation by winnings)\n",
      "rtp=96.843%\n",
      "hit_total=23.131%\n",
      "hit_per_line1=4.877%\n",
      "hit_per_line2=5.116%\n",
      "hit_per_line3=5.037%\n",
      "hit_per_line4=5.032%\n",
      "hit_per_line5=4.963%\n",
      "hit_per_spin=41.534%\n",
      "hit_wild=34.345%\n",
      "hit_bonus=3.411%\n"
     ]
    }
   ],
   "source": [
    "total_history = np.array(total_history)\n",
    "total_history_sum = total_history.sum(axis=0)\n",
    "\n",
    "rtp = 100* (player_money/total_money)\n",
    "hit_total = 100*(amount_of_wins/amount_of_spins)\n",
    "hit_per_line1 = 100*total_history_sum[0] / amount_of_spins\n",
    "hit_per_line2 = 100*total_history_sum[1] / amount_of_spins\n",
    "hit_per_line3 = 100*total_history_sum[2] / amount_of_spins\n",
    "hit_per_line4 = 100*total_history_sum[3] / amount_of_spins\n",
    "hit_per_line5 = 100*total_history_sum[4] / amount_of_spins\n",
    "\n",
    "new_total_history = np.array([history.sum() for history in total_history])\n",
    "hit_per_spin = 100*(new_total_history > 0 ).sum()/ total_history.shape[0]\n",
    "hit_wild = 100*total_history_sum[5] / amount_of_spins\n",
    "hit_bonus = 100*total_history_sum[6] / amount_of_spins\n",
    "volatility_index = round(np.std(win_money_history))\n",
    "\n",
    "print(f\"{player_money=}\")\n",
    "print(f\"{total_money=}\")\n",
    "print(f\"{volatility_index=} (calculated as the average deviation by winnings)\")\n",
    "print(f\"{rtp=}%\")\n",
    "print(f\"{hit_total=}%\")\n",
    "print(f\"{hit_per_line1=}%\")\n",
    "print(f\"{hit_per_line2=}%\")\n",
    "print(f\"{hit_per_line3=}%\")\n",
    "print(f\"{hit_per_line4=}%\")\n",
    "print(f\"{hit_per_line5=}%\")\n",
    "print(f\"{hit_per_spin=}%\")\n",
    "print(f\"{hit_wild=}%\")\n",
    "print(f\"{hit_bonus=}%\")"
   ]
  }
 ],
 "metadata": {
  "kernelspec": {
   "display_name": "Python 3",
   "language": "python",
   "name": "python3"
  },
  "language_info": {
   "codemirror_mode": {
    "name": "ipython",
    "version": 3
   },
   "file_extension": ".py",
   "mimetype": "text/x-python",
   "name": "python",
   "nbconvert_exporter": "python",
   "pygments_lexer": "ipython3",
   "version": "3.9.7"
  }
 },
 "nbformat": 4,
 "nbformat_minor": 2
}
