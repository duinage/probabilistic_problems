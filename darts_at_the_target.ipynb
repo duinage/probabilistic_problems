{
 "cells": [
  {
   "cell_type": "markdown",
   "metadata": {},
   "source": [
    "### Task:\n",
    "Vitaly throws darts at a target. \\\n",
    "The probability that he will hit is 60%. \\\n",
    "How many attempts does he need to make to make the probability of hitting more than 99.99%?"
   ]
  },
  {
   "cell_type": "markdown",
   "metadata": {},
   "source": [
    "### Theoretical solution:\n",
    "\n",
    "in n attempts, we got at least one hit on the target with probability > 0.9999 \\\n",
    "from the opposite: the probability that all n hits on the target were unsuccessful < 0.0001 \n",
    "\n",
    "we find n from the following inequality: $0.4^n \\leq 0.0001$ \\\n",
    "whence approximately $n \\geq 10.05$.\n",
    "\n",
    "therefore, you need to make at least **11 attempts** to make the probability of hitting the target greater than 99.99%"
   ]
  },
  {
   "cell_type": "markdown",
   "metadata": {},
   "source": [
    "### An empirical solution:\n",
    "We will generate a list with values 0 and 1, where 1 corresponds to hitting the target with a probability of 0.6."
   ]
  },
  {
   "cell_type": "code",
   "execution_count": 15,
   "metadata": {},
   "outputs": [
    {
     "name": "stdout",
     "output_type": "stream",
     "text": [
      "for n=9 probability of at least one hit 0.9997376\n",
      "for n=10 probability of at least one hit 0.9998949\n",
      "for n=11 probability of at least one hit 0.9999603\n"
     ]
    }
   ],
   "source": [
    "import random\n",
    "p_0 = 0.6\n",
    "\n",
    "for n in range(9, 12):\n",
    "    there_is_one_hit = 0\n",
    "    number_of_experiments = 10_000_000\n",
    "    for _ in range(number_of_experiments):\n",
    "        shoots = random.choices([0, 1], weights=[1-p_0, p_0], k=n)\n",
    "        if any(shoots):\n",
    "            there_is_one_hit += 1\n",
    "    probability = there_is_one_hit / number_of_experiments\n",
    "    print(f\"for {n=} probability of at least one hit {probability}\")"
   ]
  },
  {
   "cell_type": "markdown",
   "metadata": {},
   "source": [
    "So, as you can see, at least 11 attempts are enough."
   ]
  }
 ],
 "metadata": {
  "kernelspec": {
   "display_name": "Python 3",
   "language": "python",
   "name": "python3"
  },
  "language_info": {
   "codemirror_mode": {
    "name": "ipython",
    "version": 3
   },
   "file_extension": ".py",
   "mimetype": "text/x-python",
   "name": "python",
   "nbconvert_exporter": "python",
   "pygments_lexer": "ipython3",
   "version": "3.9.7"
  }
 },
 "nbformat": 4,
 "nbformat_minor": 2
}
