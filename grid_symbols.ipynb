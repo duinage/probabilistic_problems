{
 "cells": [
  {
   "cell_type": "markdown",
   "metadata": {},
   "source": [
    "### Problem:\n",
    "Suppose we have next Game that happens on 3x5 screen/grid:\n",
    "\n",
    "1. on the start 6 cells of the grid are occupied by symbols and all other are empty; \n",
    "2. on the start player has 3 spins, spins happen automatically;\n",
    "3. for each spin, each empty cell of the screen has independent 0.05 probability to turn up as symbol;\n",
    "4. for each spin during which at least one empty cell turned up as symbol, the current amount of spins that \n",
    "left is reset to the initial value of 3;\n",
    "5. game is finished when either there are no spins left or the full screen is filled by symbols;\n",
    "6. Check received theoretical results via simulation.\n",
    "\n",
    "Find theoretical expected amount of symbols for final screen in that Game and its distribution.\n"
   ]
  },
  {
   "cell_type": "code",
   "execution_count": 40,
   "metadata": {},
   "outputs": [
    {
     "name": "stderr",
     "output_type": "stream",
     "text": [
      "100%|██████████| 1000000/1000000 [19:47<00:00, 841.82it/s] "
     ]
    },
    {
     "name": "stdout",
     "output_type": "stream",
     "text": [
      "expected amount of symbols for final screen =  7.778268\n"
     ]
    },
    {
     "name": "stderr",
     "output_type": "stream",
     "text": [
      "\n"
     ]
    }
   ],
   "source": [
    "import numpy as np\n",
    "from tqdm import tqdm\n",
    "\n",
    "# нас цікавить лише 15-6=9 клітинок сітки\n",
    "def simulate():\n",
    "    s = 3\n",
    "    grid = np.zeros(9)\n",
    "    while s>0 and grid.sum() < 9:\n",
    "        for i in range(9):\n",
    "            if np.random.rand()<=0.05 and grid[i]==0:\n",
    "                grid[i] = 1\n",
    "                s = 3\n",
    "        s -= 1\n",
    "    return grid.sum() \n",
    "\n",
    "history_amount_symbols = np.array([])\n",
    "for _ in tqdm(range(1000000)):\n",
    "    ss = simulate()\n",
    "    history_amount_symbols = np.append(history_amount_symbols, ss)\n",
    "print(\"expected amount of symbols for final screen = \", 6 + np.mean(history_amount_symbols))"
   ]
  },
  {
   "cell_type": "markdown",
   "metadata": {},
   "source": [
    "Отже, правильна відповідь: 7.778"
   ]
  },
  {
   "cell_type": "markdown",
   "metadata": {},
   "source": [
    "### Solution:\n",
    "Переформулюємо нашу задачу: Маємо якусь випадкову величину X, яка набуває значень наприклад (6,6,7,8,8,...) \\\n",
    "Наша послідовність чисел має два випадки завершення:\n",
    "1. (6,7,7,...,15) - тобто коли наша випадкова величина збільшилась до 15;\n",
    "2. (6,7,8,...,9,10,10,10,10) - тобто коли отримали 4 однакових підряд числа ( на i-тому спіні отримали символ і наступні три нові спіни нічого не випало); \n",
    "\n",
    "З третього пункту умови можемо зробити висновок, що якщо символ випав, то він фіксується. Тобто вільних клітинок стає менше.\n",
    "Очевидно, що на кожному кроці\\спіні відбувається серія біноміальних випробувань по пустим клітинкам, що залишилися.\n",
    "Тож розподіл буде задаватися наступним виразом: $ \\Pr(X_{i+1} = X_{i} + n) = \\binom {emptyleft}{n} 0.05^n * 0.95^{emptyleft-n}$\n",
    "\n",
    "Питання: яке число буде останнім в середньому?\n",
    "\n",
    "Для цього потрібно порахувати: ймовірність отримати 15 вкінці; ймовірність отримати підряд три 6, 7, 8, 9, 10, 11, 12, 13, 14; \\\n",
    "Наступним кроком за формулою мат сподівання для дискретних розподілів порахувати математичне сподівання ${\\operatorname {E} (X)= 6 + \\sum _{n}n\\,p(n)},$\\\n",
    "Це і буде нашою відповіддю.\n"
   ]
  },
  {
   "cell_type": "code",
   "execution_count": 2,
   "metadata": {},
   "outputs": [],
   "source": [
    "from math import comb\n",
    "import numpy as np\n",
    "from tqdm import tqdm\n",
    "\n",
    "def p(n, empty_left):\n",
    "    return comb(empty_left, n) * (0.05 ** n) * (0.95 ** (empty_left - n))"
   ]
  },
  {
   "cell_type": "markdown",
   "metadata": {},
   "source": [
    "Пропоную перевірити наш підхід для спрощених задач: сітки з 6 зайнятими клітинками і 1,2,... вільними"
   ]
  },
  {
   "cell_type": "markdown",
   "metadata": {},
   "source": [
    "Для початку перевіримо для сітки з 6 зайнятими і 1 вільною"
   ]
  },
  {
   "cell_type": "code",
   "execution_count": 59,
   "metadata": {},
   "outputs": [
    {
     "name": "stderr",
     "output_type": "stream",
     "text": [
      "  0%|          | 0/100000 [00:00<?, ?it/s]"
     ]
    },
    {
     "name": "stderr",
     "output_type": "stream",
     "text": [
      "100%|██████████| 100000/100000 [00:03<00:00, 25065.73it/s]"
     ]
    },
    {
     "name": "stdout",
     "output_type": "stream",
     "text": [
      "expected amount of symbols for final screen with 1 empty, empirical E =  6.1411\n",
      "theory E=6.142625\n"
     ]
    },
    {
     "name": "stderr",
     "output_type": "stream",
     "text": [
      "\n"
     ]
    }
   ],
   "source": [
    "def simulate():\n",
    "    s = 3\n",
    "    grid = np.zeros(1)\n",
    "    while s>0 and grid.sum() < 1:\n",
    "        for i in range(1):\n",
    "            if np.random.rand()<=0.05 and grid[i]==0 :\n",
    "                grid[i] = 1\n",
    "                s = 3\n",
    "        s -= 1\n",
    "    return grid.sum() \n",
    "\n",
    "history_amount_symbols = np.array([])\n",
    "for _ in tqdm(range(100000)):\n",
    "    ss = simulate()\n",
    "    history_amount_symbols = np.append(history_amount_symbols, ss)\n",
    "print(\"expected amount of symbols for final screen with 1 empty, empirical E = \", 6 + np.mean(history_amount_symbols))\n",
    "\n",
    "\n",
    "# (6,6,6) or (7) or (6,7) or (6,6,7) \n",
    "E = 6 +  0 * p(0, 1)**3 + 1 * ( p(0,1)**2 * p(1,1) + p(0,1) * p(1,1) + p(1,1) )\n",
    "print(f'theory {E=}')"
   ]
  },
  {
   "cell_type": "markdown",
   "metadata": {},
   "source": [
    "Результати однакові, отже можемо припустити, що працює. Для впевненості перевіримо тепер для 6 зайнятих і 2 вільних."
   ]
  },
  {
   "cell_type": "code",
   "execution_count": 22,
   "metadata": {},
   "outputs": [
    {
     "name": "stderr",
     "output_type": "stream",
     "text": [
      "  0%|          | 0/100000 [00:00<?, ?it/s]"
     ]
    },
    {
     "name": "stderr",
     "output_type": "stream",
     "text": [
      "100%|██████████| 100000/100000 [00:04<00:00, 22421.95it/s]"
     ]
    },
    {
     "name": "stdout",
     "output_type": "stream",
     "text": [
      "expected amount of symbols for final screen with 2 empty, empirical E =  6.2998899999999995\n",
      "theory E=6.300776552183594\n"
     ]
    },
    {
     "name": "stderr",
     "output_type": "stream",
     "text": [
      "\n"
     ]
    }
   ],
   "source": [
    "def simulate():\n",
    "    s = 3\n",
    "    grid = np.zeros(2)\n",
    "    while s>0 and grid.sum() < 2:\n",
    "        for i in range(2):\n",
    "            if np.random.rand()<=0.05 and grid[i]==0 :\n",
    "                grid[i] = 1\n",
    "                s = 3\n",
    "        s -= 1\n",
    "    return grid.sum() \n",
    "\n",
    "history_amount_symbols = np.array([])\n",
    "for _ in tqdm(range(100000)):\n",
    "    ss = simulate()\n",
    "    history_amount_symbols = np.append(history_amount_symbols, ss)\n",
    "print(\"expected amount of symbols for final screen with 2 empty, empirical E = \", 6 + np.mean(history_amount_symbols))\n",
    "\n",
    "\n",
    "# (6,6,6)\n",
    "p_0 = p(0, 2)**3 \n",
    "# (7,7,7,7) or (6,7,7,7,7) or (6,6,7,7,7,7)\n",
    "p_1 = p(1,2) * p(0,1)**3 + p(0,2) * p(1,2) * p(0,1)**3 + p(0,2)**2 * p(1,2) * p(0,1)**3\n",
    "# (8) or (6,8) or (7,8) or (6,6,8) or (6,7,8) or (7,7,8) or (6,7,7,8) or (6,7,7,7,8) or (7,7,7,8) or (6,6,7,7,8) or (6,6,7,7,7,8)\n",
    "p_2 = p(2,2) + p(0,2) * p(2,2) + p(1,2) * p(1,1) + p(0,2)**2 * p(2,2) + p(0,2) * p(1,2) * p(1,1) + p(1,2) * p(0,1) * p(1,1) + p(0,2) * p(1,2) * p(0,1) * p(1,1) + p(0,2) * p(1,2) * p(0,1) * p(0,1) * p(1,1) + p(1,2) * p(0,1)**2 * p(1,1) + p(0,2)**2 * p(1,2) * p(0,1) * p(1,1) + p(0,2)**2 * p(1,2) * p(0,1)**2 * p(1,1)\n",
    "\n",
    "E = 6 +  0 * p_0 + 1 * p_1 + 2 * p_2\n",
    "print(f'theory {E=}')"
   ]
  }
 ],
 "metadata": {
  "kernelspec": {
   "display_name": "Python 3",
   "language": "python",
   "name": "python3"
  },
  "language_info": {
   "codemirror_mode": {
    "name": "ipython",
    "version": 3
   },
   "file_extension": ".py",
   "mimetype": "text/x-python",
   "name": "python",
   "nbconvert_exporter": "python",
   "pygments_lexer": "ipython3",
   "version": "3.9.7"
  }
 },
 "nbformat": 4,
 "nbformat_minor": 2
}
