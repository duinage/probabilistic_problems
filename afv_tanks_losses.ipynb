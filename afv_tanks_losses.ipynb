{
 "cells": [
  {
   "cell_type": "markdown",
   "id": "f4ef8ff4",
   "metadata": {},
   "source": [
    "### Problem:\n",
    "To test the hypothesis that the average losses per day of \"AFV\" coincides with the losses of \"TANKS\" (multiplied by 2). The statistics gives the sum. The sample size is the number of days of war."
   ]
  },
  {
   "cell_type": "markdown",
   "metadata": {},
   "source": [
    "### Solution:\n",
    "Assume that:\n",
    "1. $ \\mu_1 $ - average losses of the AFV; $ X_1 \\sim N (\\mu_1, \\sigma_1^2=100); $\n",
    "2. $ \\mu_2 $ - average losses of the TANKS; $ X_2 \\sim N (\\mu_2, \\sigma_2^2=50); $\n",
    "\n",
    "Let's take the data for 10.12.2023 (n=655 days of the war) from the Infographic of the General Staff of the Armed Forces of Ukraine:\n",
    "1. losses of TANKS - 5,636 (+4);\n",
    "2. losses of armored fighting vehicle (AFV) - 10,529 (+10);\n",
    "\n",
    "Let's formulate hypotheses:\n",
    "1. $H_0: \\mu_1 - 2\\mu_2 = 0 $\n",
    "2. $H_0: \\mu_1 - 2\\mu_2 \\neq 0 $\n",
    "\n",
    "To test the hypotheses, we use Welch's t-test: \\\n",
    "\\\n",
    "$ t = \\dfrac{\\overline{x_1}-\\overline{x_2}}{\\sqrt{\\frac{\\sigma_1^2}{n}+\\frac{\\sigma_2^2}{n}}} $ ; $df = \\dfrac{(\\frac{\\sigma_1^2}{n}+\\frac{\\sigma_2^2}{n})^2}{\\frac{(\\frac{\\sigma_1^2}{n})^2}{n-1}+\\frac{(\\frac{\\sigma_2^2}{n})^2}{n-1}} $"
   ]
  },
  {
   "cell_type": "code",
   "execution_count": 4,
   "metadata": {},
   "outputs": [],
   "source": [
    "from scipy.stats import t"
   ]
  },
  {
   "cell_type": "code",
   "execution_count": 3,
   "metadata": {},
   "outputs": [
    {
     "name": "stdout",
     "output_type": "stream",
     "text": [
      "t_statistic=-1552.6152023816676, degrees_of_freedom=1177.1999999999998, p_value=0.0\n"
     ]
    }
   ],
   "source": [
    "AFV =  10529\n",
    "TANKS =  2*5636\n",
    "s_1_sq = 100\n",
    "s_2_sq = 50\n",
    "n = 655\n",
    "\n",
    "t_statistic = (AFV-TANKS) / (s_1_sq/n + s_2_sq/n)**0.5\n",
    "degrees_of_freedom = (s_1_sq/n + s_2_sq/n)**2 / ( (s_1_sq/n)**2 / (n-1) + (s_2_sq/n)**2 / (n-1) )\n",
    "p_value = t.cdf(t_statistic, degrees_of_freedom)\n",
    "\n",
    "print(f\"{t_statistic=}, {degrees_of_freedom=}, {p_value=}\")"
   ]
  },
  {
   "cell_type": "markdown",
   "metadata": {},
   "source": [
    "p-value < 0.05 \\\n",
    "Thus, we reject the hypothesis $H_0$, that is, at the 95% significance level, the average losses per day of \"AFV\" do NOT coincide with the losses of \"TANKS\" (multiplied by 2)"
   ]
  }
 ],
 "metadata": {
  "kernelspec": {
   "display_name": "Python 3 (ipykernel)",
   "language": "python",
   "name": "python3"
  },
  "language_info": {
   "codemirror_mode": {
    "name": "ipython",
    "version": 3
   },
   "file_extension": ".py",
   "mimetype": "text/x-python",
   "name": "python",
   "nbconvert_exporter": "python",
   "pygments_lexer": "ipython3",
   "version": "3.9.7"
  }
 },
 "nbformat": 4,
 "nbformat_minor": 5
}
